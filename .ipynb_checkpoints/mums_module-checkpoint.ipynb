{
 "cells": [
  {
   "cell_type": "code",
   "execution_count": 1,
   "metadata": {},
   "outputs": [],
   "source": [
    "import pandas as pd\n",
    "from pprint import pprint\n",
    "from mums_little_helper import *\n",
    "pd.set_option('max_colwidth', 400)"
   ]
  },
  {
   "cell_type": "code",
   "execution_count": 2,
   "metadata": {},
   "outputs": [],
   "source": [
    "ps_a, dr_a = slice_the_cack('Jul_Nov2019_ANON.csv', 2019, 9, 7)\n",
    "depts = get_employees_by_dept(ps_a, dr_a)\n",
    "account_sums = get_sums(ps_a, dr_a, depts)\n",
    "piece_dict = pieces_of_me(account_sums, depts)\n",
    "dfs = sum_and_separate_by_dept(piece_dict)\n",
    "dfs_x = merge_dfs(dfs)"
   ]
  },
  {
   "cell_type": "code",
   "execution_count": 3,
   "metadata": {},
   "outputs": [
    {
     "data": {
      "text/plain": [
       "DatetimeIndex(['2019-09-01', '2019-09-02', '2019-09-03', '2019-09-04',\n",
       "               '2019-09-05', '2019-09-06', '2019-09-07'],\n",
       "              dtype='datetime64[ns]', freq='D')"
      ]
     },
     "execution_count": 3,
     "metadata": {},
     "output_type": "execute_result"
    }
   ],
   "source": [
    "dr_a"
   ]
  },
  {
   "cell_type": "code",
   "execution_count": 4,
   "metadata": {},
   "outputs": [
    {
     "data": {
      "text/plain": [
       "{'fractmo': {8: 1.0},\n",
       " 'txs_by_emp': {'Adams, L': 39.67,\n",
       "  'Avery, B': 27.98,\n",
       "  'Bingo, Nolan': 47.89999999999999,\n",
       "  'Chorse, MD': 27.28,\n",
       "  'Clyde-Owens, L': 48.42,\n",
       "  'Cole, AH': 17.94,\n",
       "  'Conde, Barb': 24.53,\n",
       "  'Fray-Chase, Jay': 28.779999999999998,\n",
       "  'Graybranch, Linne': 40.52,\n",
       "  'Gunn, Jim': 41.129999999999995,\n",
       "  'Heart, Ray': 47.22,\n",
       "  'Hedrovin, Zed': 7.949999999999999,\n",
       "  'LaRay, Jane': 40.05,\n",
       "  'Lentifold, Eddie': 27.47,\n",
       "  'Mattison, Ronnie G.': 37.85,\n",
       "  'Peace, Jesse B.': 21.38,\n",
       "  'Peet, Angela L': 58.089999999999996,\n",
       "  'Picken, James': 18.98,\n",
       "  'Pino, Kola': 33.209999999999994,\n",
       "  'Rich, Chiccie SR.': 40.86,\n",
       "  'Ryan, Noam': 28.94,\n",
       "  'Stark, Nancy B': 12.12,\n",
       "  'Teddy, Aimee': 27.77,\n",
       "  'Van Wilson, Len P.': 61.57},\n",
       " 'txs_for_depts_emps': {'61101 · Salary & Wages-Packaging': 39.67,\n",
       "  '61104 · Salary & Wages-Bakery': 234.15999999999997,\n",
       "  '61109 · Salary & Wages-Produce': 49.36,\n",
       "  '61141 · Salary & Wages-Admin': 286.5,\n",
       "  '61142 · Salary & Wages-Store': 197.92},\n",
       " 'wgs': {'61101 · Salary & Wages-Packaging': 408.66,\n",
       "  '61104 · Salary & Wages-Bakery': 2837.27,\n",
       "  '61107 · Salary & Wages-Deli': 0.0,\n",
       "  '61109 · Salary & Wages-Produce': 555.73,\n",
       "  '61141 · Salary & Wages-Admin': 4238.93,\n",
       "  '61142 · Salary & Wages-Store': 2278.19}}"
      ]
     },
     "execution_count": 4,
     "metadata": {},
     "output_type": "execute_result"
    }
   ],
   "source": [
    "account_sums"
   ]
  },
  {
   "cell_type": "code",
   "execution_count": 5,
   "metadata": {},
   "outputs": [
    {
     "data": {
      "text/plain": [
       "{8: {'cn': {'61101 · Salary & Wages-Packaging': 448.33000000000004,\n",
       "   '61104 · Salary & Wages-Bakery': 3071.43,\n",
       "   '61109 · Salary & Wages-Produce': 605.09,\n",
       "   '61141 · Salary & Wages-Admin': 4525.43,\n",
       "   '61142 · Salary & Wages-Store': 2476.11},\n",
       "  'depts': {'61101 · Salary & Wages-Packaging': {'Adams, L': 39.67},\n",
       "   '61104 · Salary & Wages-Bakery': {'Bingo, Nolan': 47.9,\n",
       "    'Cole, AH': 17.94,\n",
       "    'Conde, Barb': 24.53,\n",
       "    'Fray-Chase, Jay': 28.78,\n",
       "    'Heart, Ray': 47.22,\n",
       "    'Hedrovin, Zed': 7.95,\n",
       "    'Picken, James': 18.98,\n",
       "    'Rich, Chiccie SR.': 40.86},\n",
       "   '61109 · Salary & Wages-Produce': {'Avery, B': 27.98,\n",
       "    'Peace, Jesse B.': 21.38},\n",
       "   '61141 · Salary & Wages-Admin': {'Clyde-Owens, L': 48.42,\n",
       "    'Graybranch, Linne': 40.52,\n",
       "    'LaRay, Jane': 40.05,\n",
       "    'Mattison, Ronnie G.': 37.85,\n",
       "    'Peet, Angela L': 58.09,\n",
       "    'Van Wilson, Len P.': 61.57},\n",
       "   '61142 · Salary & Wages-Store': {'Chorse, MD': 27.28,\n",
       "    'Gunn, Jim': 41.13,\n",
       "    'Lentifold, Eddie': 27.47,\n",
       "    'Pino, Kola': 33.21,\n",
       "    'Ryan, Noam': 28.94,\n",
       "    'Stark, Nancy B': 12.12,\n",
       "    'Teddy, Aimee': 27.77}},\n",
       "  'txs_for_depts_emps': {'61101 · Salary & Wages-Packaging': 39.67,\n",
       "   '61104 · Salary & Wages-Bakery': 234.15999999999997,\n",
       "   '61109 · Salary & Wages-Produce': 49.36,\n",
       "   '61141 · Salary & Wages-Admin': 286.5,\n",
       "   '61142 · Salary & Wages-Store': 197.92},\n",
       "  'wgs': {'61101 · Salary & Wages-Packaging': 408.66,\n",
       "   '61104 · Salary & Wages-Bakery': 2837.27,\n",
       "   '61107 · Salary & Wages-Deli': 0.0,\n",
       "   '61109 · Salary & Wages-Produce': 555.73,\n",
       "   '61141 · Salary & Wages-Admin': 4238.93,\n",
       "   '61142 · Salary & Wages-Store': 2278.19}}}"
      ]
     },
     "execution_count": 5,
     "metadata": {},
     "output_type": "execute_result"
    }
   ],
   "source": [
    "piece_dict"
   ]
  },
  {
   "cell_type": "code",
   "execution_count": 6,
   "metadata": {},
   "outputs": [
    {
     "data": {
      "text/plain": [
       "[                                    Wages  Month\n",
       " 61101 · Salary & Wages-Packaging   408.66      8\n",
       " 61104 · Salary & Wages-Bakery     2837.27      8\n",
       " 61107 · Salary & Wages-Deli          0.00      8\n",
       " 61109 · Salary & Wages-Produce     555.73      8\n",
       " 61141 · Salary & Wages-Admin      4238.93      8\n",
       " 61142 · Salary & Wages-Store      2278.19      8,\n",
       "                                    Taxes\n",
       " 61101 · Salary & Wages-Packaging   39.67\n",
       " 61104 · Salary & Wages-Bakery     234.16\n",
       " 61109 · Salary & Wages-Produce     49.36\n",
       " 61141 · Salary & Wages-Admin      286.50\n",
       " 61142 · Salary & Wages-Store      197.92,\n",
       "                                                                                                                                                                                                                   Employees\n",
       " 61101 · Salary & Wages-Packaging                                                                                                                                                                        {'Adams, L': 39.67}\n",
       " 61104 · Salary & Wages-Bakery     {'Bingo, Nolan': 47.9, 'Cole, AH': 17.94, 'Conde, Barb': 24.53, 'Fray-Chase, Jay': 28.78, 'Heart, Ray': 47.22, 'Hedrovin, Zed': 7.95, 'Picken, James': 18.98, 'Rich, Chiccie SR.': 40.86}\n",
       " 61109 · Salary & Wages-Produce                                                                                                                                                {'Avery, B': 27.98, 'Peace, Jesse B.': 21.38}\n",
       " 61141 · Salary & Wages-Admin                                {'Clyde-Owens, L': 48.42, 'Graybranch, Linne': 40.52, 'LaRay, Jane': 40.05, 'Mattison, Ronnie G.': 37.85, 'Peet, Angela L': 58.09, 'Van Wilson, Len P.': 61.57}\n",
       " 61142 · Salary & Wages-Store                                 {'Chorse, MD': 27.28, 'Gunn, Jim': 41.13, 'Lentifold, Eddie': 27.47, 'Pino, Kola': 33.21, 'Ryan, Noam': 28.94, 'Stark, Nancy B': 12.12, 'Teddy, Aimee': 27.77},\n",
       "                                   Totals_WnT\n",
       " 61101 · Salary & Wages-Packaging      448.33\n",
       " 61104 · Salary & Wages-Bakery        3071.43\n",
       " 61109 · Salary & Wages-Produce        605.09\n",
       " 61141 · Salary & Wages-Admin         4525.43\n",
       " 61142 · Salary & Wages-Store         2476.11]"
      ]
     },
     "execution_count": 6,
     "metadata": {},
     "output_type": "execute_result"
    }
   ],
   "source": [
    "dfs"
   ]
  },
  {
   "cell_type": "code",
   "execution_count": 7,
   "metadata": {},
   "outputs": [
    {
     "data": {
      "text/html": [
       "<div>\n",
       "<style scoped>\n",
       "    .dataframe tbody tr th:only-of-type {\n",
       "        vertical-align: middle;\n",
       "    }\n",
       "\n",
       "    .dataframe tbody tr th {\n",
       "        vertical-align: top;\n",
       "    }\n",
       "\n",
       "    .dataframe thead th {\n",
       "        text-align: right;\n",
       "    }\n",
       "</style>\n",
       "<table border=\"1\" class=\"dataframe\">\n",
       "  <thead>\n",
       "    <tr style=\"text-align: right;\">\n",
       "      <th></th>\n",
       "      <th>Wages</th>\n",
       "      <th>Month</th>\n",
       "      <th>Taxes</th>\n",
       "      <th>Employees</th>\n",
       "      <th>Totals_WnT</th>\n",
       "    </tr>\n",
       "  </thead>\n",
       "  <tbody>\n",
       "    <tr>\n",
       "      <th>61101 · Salary &amp; Wages-Packaging</th>\n",
       "      <td>408.66</td>\n",
       "      <td>8</td>\n",
       "      <td>39.67</td>\n",
       "      <td>{'Adams, L': 39.67}</td>\n",
       "      <td>448.33</td>\n",
       "    </tr>\n",
       "    <tr>\n",
       "      <th>61104 · Salary &amp; Wages-Bakery</th>\n",
       "      <td>2837.27</td>\n",
       "      <td>8</td>\n",
       "      <td>234.16</td>\n",
       "      <td>{'Bingo, Nolan': 47.9, 'Cole, AH': 17.94, 'Conde, Barb': 24.53, 'Fray-Chase, Jay': 28.78, 'Heart, Ray': 47.22, 'Hedrovin, Zed': 7.95, 'Picken, James': 18.98, 'Rich, Chiccie SR.': 40.86}</td>\n",
       "      <td>3071.43</td>\n",
       "    </tr>\n",
       "    <tr>\n",
       "      <th>61109 · Salary &amp; Wages-Produce</th>\n",
       "      <td>555.73</td>\n",
       "      <td>8</td>\n",
       "      <td>49.36</td>\n",
       "      <td>{'Avery, B': 27.98, 'Peace, Jesse B.': 21.38}</td>\n",
       "      <td>605.09</td>\n",
       "    </tr>\n",
       "    <tr>\n",
       "      <th>61141 · Salary &amp; Wages-Admin</th>\n",
       "      <td>4238.93</td>\n",
       "      <td>8</td>\n",
       "      <td>286.50</td>\n",
       "      <td>{'Clyde-Owens, L': 48.42, 'Graybranch, Linne': 40.52, 'LaRay, Jane': 40.05, 'Mattison, Ronnie G.': 37.85, 'Peet, Angela L': 58.09, 'Van Wilson, Len P.': 61.57}</td>\n",
       "      <td>4525.43</td>\n",
       "    </tr>\n",
       "    <tr>\n",
       "      <th>61142 · Salary &amp; Wages-Store</th>\n",
       "      <td>2278.19</td>\n",
       "      <td>8</td>\n",
       "      <td>197.92</td>\n",
       "      <td>{'Chorse, MD': 27.28, 'Gunn, Jim': 41.13, 'Lentifold, Eddie': 27.47, 'Pino, Kola': 33.21, 'Ryan, Noam': 28.94, 'Stark, Nancy B': 12.12, 'Teddy, Aimee': 27.77}</td>\n",
       "      <td>2476.11</td>\n",
       "    </tr>\n",
       "  </tbody>\n",
       "</table>\n",
       "</div>"
      ],
      "text/plain": [
       "                                    Wages  Month   Taxes  \\\n",
       "61101 · Salary & Wages-Packaging   408.66      8   39.67   \n",
       "61104 · Salary & Wages-Bakery     2837.27      8  234.16   \n",
       "61109 · Salary & Wages-Produce     555.73      8   49.36   \n",
       "61141 · Salary & Wages-Admin      4238.93      8  286.50   \n",
       "61142 · Salary & Wages-Store      2278.19      8  197.92   \n",
       "\n",
       "                                                                                                                                                                                                                  Employees  \\\n",
       "61101 · Salary & Wages-Packaging                                                                                                                                                                        {'Adams, L': 39.67}   \n",
       "61104 · Salary & Wages-Bakery     {'Bingo, Nolan': 47.9, 'Cole, AH': 17.94, 'Conde, Barb': 24.53, 'Fray-Chase, Jay': 28.78, 'Heart, Ray': 47.22, 'Hedrovin, Zed': 7.95, 'Picken, James': 18.98, 'Rich, Chiccie SR.': 40.86}   \n",
       "61109 · Salary & Wages-Produce                                                                                                                                                {'Avery, B': 27.98, 'Peace, Jesse B.': 21.38}   \n",
       "61141 · Salary & Wages-Admin                                {'Clyde-Owens, L': 48.42, 'Graybranch, Linne': 40.52, 'LaRay, Jane': 40.05, 'Mattison, Ronnie G.': 37.85, 'Peet, Angela L': 58.09, 'Van Wilson, Len P.': 61.57}   \n",
       "61142 · Salary & Wages-Store                                 {'Chorse, MD': 27.28, 'Gunn, Jim': 41.13, 'Lentifold, Eddie': 27.47, 'Pino, Kola': 33.21, 'Ryan, Noam': 28.94, 'Stark, Nancy B': 12.12, 'Teddy, Aimee': 27.77}   \n",
       "\n",
       "                                  Totals_WnT  \n",
       "61101 · Salary & Wages-Packaging      448.33  \n",
       "61104 · Salary & Wages-Bakery        3071.43  \n",
       "61109 · Salary & Wages-Produce        605.09  \n",
       "61141 · Salary & Wages-Admin         4525.43  \n",
       "61142 · Salary & Wages-Store         2476.11  "
      ]
     },
     "execution_count": 7,
     "metadata": {},
     "output_type": "execute_result"
    }
   ],
   "source": [
    "dfs_x"
   ]
  },
  {
   "cell_type": "code",
   "execution_count": 8,
   "metadata": {},
   "outputs": [
    {
     "data": {
      "text/plain": [
       "1"
      ]
     },
     "execution_count": 8,
     "metadata": {},
     "output_type": "execute_result"
    }
   ],
   "source": [
    "dfs_x['Month'].nunique()"
   ]
  },
  {
   "cell_type": "code",
   "execution_count": 46,
   "metadata": {
    "collapsed": true
   },
   "outputs": [
    {
     "ename": "SyntaxError",
     "evalue": "invalid syntax (<ipython-input-46-6d517d19c0f7>, line 1)",
     "output_type": "error",
     "traceback": [
      "\u001b[0;36m  File \u001b[0;32m\"<ipython-input-46-6d517d19c0f7>\"\u001b[0;36m, line \u001b[0;32m1\u001b[0m\n\u001b[0;31m    when running 9-5 bakery taxes are way off, stores taxes are way off\u001b[0m\n\u001b[0m               ^\u001b[0m\n\u001b[0;31mSyntaxError\u001b[0m\u001b[0;31m:\u001b[0m invalid syntax\n"
     ]
    }
   ],
   "source": [
    "when running 9-8 bakery taxes are way off, stores taxes are way off"
   ]
  },
  {
   "cell_type": "code",
   "execution_count": null,
   "metadata": {},
   "outputs": [],
   "source": [
    "when running 10-10 admin is $10 off, bakery is off, store is off"
   ]
  },
  {
   "cell_type": "code",
   "execution_count": null,
   "metadata": {},
   "outputs": [],
   "source": [
    "when running 11-7 packaging $30 off, "
   ]
  },
  {
   "cell_type": "code",
   "execution_count": null,
   "metadata": {},
   "outputs": [],
   "source": [
    "don't have data into december to run 12-7 "
   ]
  }
 ],
 "metadata": {
  "kernelspec": {
   "display_name": "Python 3",
   "language": "python",
   "name": "python3"
  },
  "language_info": {
   "codemirror_mode": {
    "name": "ipython",
    "version": 3
   },
   "file_extension": ".py",
   "mimetype": "text/x-python",
   "name": "python",
   "nbconvert_exporter": "python",
   "pygments_lexer": "ipython3",
   "version": "3.6.3"
  }
 },
 "nbformat": 4,
 "nbformat_minor": 2
}
